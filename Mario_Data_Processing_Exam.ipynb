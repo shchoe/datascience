{
  "nbformat": 4,
  "nbformat_minor": 0,
  "metadata": {
    "colab": {
      "name": "Mario Data Processing Exam",
      "provenance": [],
      "machine_shape": "hm",
      "authorship_tag": "ABX9TyMKxg9Tyo1H3ZCcy5X9fT32",
      "include_colab_link": true
    },
    "kernelspec": {
      "name": "python3",
      "display_name": "Python 3"
    },
    "accelerator": "GPU"
  },
  "cells": [
    {
      "cell_type": "markdown",
      "metadata": {
        "id": "view-in-github",
        "colab_type": "text"
      },
      "source": [
        "<a href=\"https://colab.research.google.com/github/shchoe/datascience/blob/master/Mario_Data_Processing_Exam.ipynb\" target=\"_parent\"><img src=\"https://colab.research.google.com/assets/colab-badge.svg\" alt=\"Open In Colab\"/></a>"
      ]
    },
    {
      "cell_type": "code",
      "metadata": {
        "colab": {
          "base_uri": "https://localhost:8080/"
        },
        "id": "BmZpEksA56-E",
        "outputId": "43a671da-a7b6-4155-c24c-1cdefc89c35f"
      },
      "source": [
        "!nvidia-smi"
      ],
      "execution_count": 1,
      "outputs": [
        {
          "output_type": "stream",
          "text": [
            "Sat Dec  5 15:26:57 2020       \n",
            "+-----------------------------------------------------------------------------+\n",
            "| NVIDIA-SMI 455.45.01    Driver Version: 418.67       CUDA Version: 10.1     |\n",
            "|-------------------------------+----------------------+----------------------+\n",
            "| GPU  Name        Persistence-M| Bus-Id        Disp.A | Volatile Uncorr. ECC |\n",
            "| Fan  Temp  Perf  Pwr:Usage/Cap|         Memory-Usage | GPU-Util  Compute M. |\n",
            "|                               |                      |               MIG M. |\n",
            "|===============================+======================+======================|\n",
            "|   0  Tesla P100-PCIE...  Off  | 00000000:00:04.0 Off |                    0 |\n",
            "| N/A   35C    P0    25W / 250W |      0MiB / 16280MiB |      0%      Default |\n",
            "|                               |                      |                 ERR! |\n",
            "+-------------------------------+----------------------+----------------------+\n",
            "                                                                               \n",
            "+-----------------------------------------------------------------------------+\n",
            "| Processes:                                                                  |\n",
            "|  GPU   GI   CI        PID   Type   Process name                  GPU Memory |\n",
            "|        ID   ID                                                   Usage      |\n",
            "|=============================================================================|\n",
            "|  No running processes found                                                 |\n",
            "+-----------------------------------------------------------------------------+\n"
          ],
          "name": "stdout"
        }
      ]
    },
    {
      "cell_type": "code",
      "metadata": {
        "colab": {
          "base_uri": "https://localhost:8080/"
        },
        "id": "cE9RZ6LiWWtk",
        "outputId": "15471b20-667b-4410-99c9-d662ea0fa581"
      },
      "source": [
        "import json\n",
        "import gzip\n",
        "import pandas as pd\n",
        "import numpy as np\n",
        "import matplotlib\n",
        "import seaborn as sns \n",
        "import matplotlib.pyplot as plt\n",
        "!pip install -q wordcloud\n",
        "import wordcloud\n",
        "from gensim.parsing.preprocessing import preprocess_string\n",
        "\n",
        "import nltk\n",
        "nltk.download('stopwords')\n",
        "nltk.download('wordnet')\n",
        "nltk.download('punkt')\n",
        "nltk.download('averaged_perceptron_tagger') \n",
        "\n",
        "import io\n",
        "import unicodedata\n",
        "import re\n",
        "import string\n",
        "\n",
        "# ignore warnings\n",
        "import warnings\n",
        "warnings.filterwarnings('ignore')"
      ],
      "execution_count": 2,
      "outputs": [
        {
          "output_type": "stream",
          "text": [
            "[nltk_data] Downloading package stopwords to /root/nltk_data...\n",
            "[nltk_data]   Unzipping corpora/stopwords.zip.\n",
            "[nltk_data] Downloading package wordnet to /root/nltk_data...\n",
            "[nltk_data]   Unzipping corpora/wordnet.zip.\n",
            "[nltk_data] Downloading package punkt to /root/nltk_data...\n",
            "[nltk_data]   Unzipping tokenizers/punkt.zip.\n",
            "[nltk_data] Downloading package averaged_perceptron_tagger to\n",
            "[nltk_data]     /root/nltk_data...\n",
            "[nltk_data]   Unzipping taggers/averaged_perceptron_tagger.zip.\n"
          ],
          "name": "stdout"
        }
      ]
    },
    {
      "cell_type": "markdown",
      "metadata": {
        "id": "N3IMWJklzHYM"
      },
      "source": [
        "As Machine Learning performs better with more training dataset, looked for most reviewed product. The first five brands from asin (Amazon Product ID) value count were: Toppik, Mario Badescu, Hot Tools, Mario Badescu, Toppik. Toppik = 6954 + 3460 = 10,414 and Mario Badescu = 6138 + 4300 = 10,438. Therefore, we will analyze Mario Badescu products."
      ]
    },
    {
      "cell_type": "markdown",
      "metadata": {
        "id": "O8HSFzGX0VB8"
      },
      "source": [
        "Fetch data from Google Drive"
      ]
    },
    {
      "cell_type": "code",
      "metadata": {
        "colab": {
          "base_uri": "https://localhost:8080/"
        },
        "id": "KiexowJT2pJe",
        "outputId": "e4144252-d841-45ea-e6d8-84a46d88e223"
      },
      "source": [
        "# Code to read csv file into Colaboratory:\n",
        "!pip install -U -q PyDrive\n",
        "from pydrive.auth import GoogleAuth\n",
        "from pydrive.drive import GoogleDrive\n",
        "from google.colab import auth\n",
        "from oauth2client.client import GoogleCredentials\n",
        "\n",
        "# Authenticate and create the PyDrive client.\n",
        "auth.authenticate_user()\n",
        "gauth = GoogleAuth()\n",
        "gauth.credentials = GoogleCredentials.get_application_default()\n",
        "drive = GoogleDrive(gauth)\n",
        "\n",
        "\n",
        "link = 'https://drive.google.com/file/d/11c7JaLrA2QEICLOui86_To4er7Ah_xzs'\n",
        "\n",
        "\n",
        "fluff, id = link.split('d/')\n",
        "print (id)\n",
        "\n",
        "\n",
        "#Store in pandas dataframe\n",
        "downloaded = drive.CreateFile({'id':id}) \n",
        "downloaded.GetContentFile('beauty_full.csv')  \n",
        "df = pd.read_csv('beauty_full.csv', index_col='Unnamed: 0')"
      ],
      "execution_count": 3,
      "outputs": [
        {
          "output_type": "stream",
          "text": [
            "11c7JaLrA2QEICLOui86_To4er7Ah_xzs\n"
          ],
          "name": "stdout"
        }
      ]
    },
    {
      "cell_type": "code",
      "metadata": {
        "colab": {
          "base_uri": "https://localhost:8080/",
          "height": 197
        },
        "id": "49m_JMbp4an5",
        "outputId": "97b0a846-79f5-4514-eafe-f17fc6c964a8"
      },
      "source": [
        "df.head()"
      ],
      "execution_count": 4,
      "outputs": [
        {
          "output_type": "execute_result",
          "data": {
            "text/html": [
              "<div>\n",
              "<style scoped>\n",
              "    .dataframe tbody tr th:only-of-type {\n",
              "        vertical-align: middle;\n",
              "    }\n",
              "\n",
              "    .dataframe tbody tr th {\n",
              "        vertical-align: top;\n",
              "    }\n",
              "\n",
              "    .dataframe thead th {\n",
              "        text-align: right;\n",
              "    }\n",
              "</style>\n",
              "<table border=\"1\" class=\"dataframe\">\n",
              "  <thead>\n",
              "    <tr style=\"text-align: right;\">\n",
              "      <th></th>\n",
              "      <th>overall</th>\n",
              "      <th>asin</th>\n",
              "      <th>reviewText</th>\n",
              "      <th>title</th>\n",
              "      <th>posneg_bi</th>\n",
              "      <th>mario</th>\n",
              "    </tr>\n",
              "  </thead>\n",
              "  <tbody>\n",
              "    <tr>\n",
              "      <th>1</th>\n",
              "      <td>5</td>\n",
              "      <td>B0007MYMW8</td>\n",
              "      <td>Love this scrub. I have oilier skin and it is ...</td>\n",
              "      <td>Mario Badescu Kiwi Face Scrub, 4 oz.</td>\n",
              "      <td>1</td>\n",
              "      <td>1</td>\n",
              "    </tr>\n",
              "    <tr>\n",
              "      <th>2</th>\n",
              "      <td>5</td>\n",
              "      <td>B0007MYMW8</td>\n",
              "      <td>This face scrub is amazing for dry and patchy ...</td>\n",
              "      <td>Mario Badescu Kiwi Face Scrub, 4 oz.</td>\n",
              "      <td>1</td>\n",
              "      <td>1</td>\n",
              "    </tr>\n",
              "    <tr>\n",
              "      <th>3</th>\n",
              "      <td>1</td>\n",
              "      <td>B0007MYMW8</td>\n",
              "      <td>This product doesn't exfoliate. The cream is t...</td>\n",
              "      <td>Mario Badescu Kiwi Face Scrub, 4 oz.</td>\n",
              "      <td>0</td>\n",
              "      <td>1</td>\n",
              "    </tr>\n",
              "    <tr>\n",
              "      <th>4</th>\n",
              "      <td>4</td>\n",
              "      <td>B0007MYMW8</td>\n",
              "      <td>I think this is a good exfoliater. It cleared ...</td>\n",
              "      <td>Mario Badescu Kiwi Face Scrub, 4 oz.</td>\n",
              "      <td>1</td>\n",
              "      <td>1</td>\n",
              "    </tr>\n",
              "    <tr>\n",
              "      <th>5</th>\n",
              "      <td>2</td>\n",
              "      <td>B0007MYMW8</td>\n",
              "      <td>I really don't think this is doing much for me...</td>\n",
              "      <td>Mario Badescu Kiwi Face Scrub, 4 oz.</td>\n",
              "      <td>0</td>\n",
              "      <td>1</td>\n",
              "    </tr>\n",
              "  </tbody>\n",
              "</table>\n",
              "</div>"
            ],
            "text/plain": [
              "   overall        asin  ... posneg_bi mario\n",
              "1        5  B0007MYMW8  ...         1     1\n",
              "2        5  B0007MYMW8  ...         1     1\n",
              "3        1  B0007MYMW8  ...         0     1\n",
              "4        4  B0007MYMW8  ...         1     1\n",
              "5        2  B0007MYMW8  ...         0     1\n",
              "\n",
              "[5 rows x 6 columns]"
            ]
          },
          "metadata": {
            "tags": []
          },
          "execution_count": 4
        }
      ]
    },
    {
      "cell_type": "markdown",
      "metadata": {
        "id": "CKd6_PsO923I"
      },
      "source": [
        "NLP of reviewText for NLP"
      ]
    },
    {
      "cell_type": "markdown",
      "metadata": {
        "id": "HlNU5n3pI6Wo"
      },
      "source": [
        "Tokenize sentences and words, remove stopwords"
      ]
    },
    {
      "cell_type": "code",
      "metadata": {
        "id": "V-365Fb_Jp6A"
      },
      "source": [
        "text = df['reviewText'].tolist()\n",
        "# Constants\n",
        "# POS (Parts Of Speech) for: nouns, adjectives, verbs and adverbs\n",
        "DI_POS_TYPES = {'NN':'n', 'JJ':'a', 'VB':'v', 'RB':'r'} \n",
        "POS_TYPES = list(DI_POS_TYPES.keys())\n",
        "\n",
        "# Constraints on tokens\n",
        "MIN_STR_LEN = 3\n",
        "RE_VALID = '[a-zA-Z]'"
      ],
      "execution_count": 5,
      "outputs": []
    },
    {
      "cell_type": "code",
      "metadata": {
        "id": "03cvp7sOI4JU"
      },
      "source": [
        "def preprocessing_advanced(text, focus, nlp, freqlist, topic=True):\n",
        "    \n",
        "    \"\"\" \n",
        "    Requires lowercased string from preprocess_for_char_generation(), \n",
        "    performs punctuation and stopwords removal and yields tokens. \n",
        "    Performs stemming for all words if no topic modeling required.\n",
        "    \n",
        "    :param:   str   text:  words to be read in\n",
        "    :param:   obj.  nlp:   spacy object to analyze text\n",
        "    \n",
        "    :return:  Word tokens\n",
        "    :rtype:   List of Strings \n",
        "    \n",
        "    \"\"\"\n",
        "    \n",
        "    final_text = []\n",
        "    \n",
        "    #create list with non-informative words\n",
        "    #amazon appears too often and amp might be from links\n",
        "    custom_stop = ['amazon', 'amp', 'www']\n",
        "     \n",
        "    #remove punctuation from words\n",
        "    text = re.sub(r'[^A-Za-z ]+', '', str(text))\n",
        "    \n",
        "    \n",
        "    if topic == False:\n",
        "        \n",
        "        #stem words and remove stopwords with gensim\n",
        "        final_text = preprocess_string(text)\n",
        "        \n",
        "    #remove custom stopwords\n",
        "    final_text = [word for word in final_text if word not in custom_stop]\n",
        "    \n",
        "    return final_text"
      ],
      "execution_count": 6,
      "outputs": []
    },
    {
      "cell_type": "markdown",
      "metadata": {
        "id": "hE6da6RIABIv"
      },
      "source": [
        "Need to convert to string to filter rare words"
      ]
    },
    {
      "cell_type": "code",
      "metadata": {
        "id": "FAnT1UXFAKjY"
      },
      "source": [
        "df['reviewText'] = df['reviewText'].fillna('').apply(str)"
      ],
      "execution_count": 7,
      "outputs": []
    },
    {
      "cell_type": "code",
      "metadata": {
        "id": "j4aK82GTMgS6"
      },
      "source": [
        "#define list of rare words\n",
        "freq = pd.Series(' '.join(df['reviewText']).split()).value_counts()\n",
        "\n",
        "#store words appearing only once in all texts\n",
        "freq_list = freq[freq == 1]"
      ],
      "execution_count": 8,
      "outputs": []
    },
    {
      "cell_type": "code",
      "metadata": {
        "id": "05nwQTRGL3wF",
        "colab": {
          "base_uri": "https://localhost:8080/"
        },
        "outputId": "fb29ae51-42dd-4355-9dd5-3ce3c7c2e072"
      },
      "source": [
        "import spacy\n",
        "nlp = spacy.load('en_core_web_sm')\n",
        "\n",
        "#preprocessing for sentiment column\n",
        "begin = pd.Timestamp.now()\n",
        "\n",
        "\n",
        "df['reviewText'] = df['reviewText'].apply(lambda x: \\\n",
        "                                      preprocessing_advanced(x,'default',nlp, freq_list, False))\n",
        "\n",
        "end = pd.Timestamp.now()\n",
        "\n",
        "#printing the seconds from timedelta object between both times to check performance\n",
        "print('It took {} seconds to execute this cell'.format(round((end-begin).total_seconds()),4))"
      ],
      "execution_count": 9,
      "outputs": [
        {
          "output_type": "stream",
          "text": [
            "It took 3 seconds to execute this cell\n"
          ],
          "name": "stdout"
        }
      ]
    },
    {
      "cell_type": "markdown",
      "metadata": {
        "id": "LrytAqlY1jGI"
      },
      "source": [
        "Fill na and convert list into strings for vectorization"
      ]
    },
    {
      "cell_type": "code",
      "metadata": {
        "id": "fCMANRts1p3q"
      },
      "source": [
        "df['reviewText'] = df['reviewText'].fillna('').apply(str)"
      ],
      "execution_count": 10,
      "outputs": []
    },
    {
      "cell_type": "markdown",
      "metadata": {
        "id": "-yhfC_rx5KaA"
      },
      "source": [
        "Word Embedding (TF-idf) and defining targets and train and test dataset"
      ]
    },
    {
      "cell_type": "code",
      "metadata": {
        "id": "hzymISK_7dts"
      },
      "source": [
        "from sklearn.feature_extraction.text import TfidfVectorizer\n",
        "vectorizer = TfidfVectorizer()\n",
        "X = vectorizer.fit_transform(df['reviewText'])\n",
        "y = df['posneg_bi'].values #Binomial target"
      ],
      "execution_count": 11,
      "outputs": []
    },
    {
      "cell_type": "code",
      "metadata": {
        "id": "kvJvT_kNhGQE"
      },
      "source": [
        "## split dataset (Binomial target)\n",
        "from sklearn.model_selection import train_test_split\n",
        "X_train, X_test, y_train, y_test = train_test_split(X, y, \n",
        "                                                    test_size=0.3, \n",
        "                                                    random_state=42, \n",
        "                                                    stratify=df['posneg_bi'])"
      ],
      "execution_count": 14,
      "outputs": []
    },
    {
      "cell_type": "code",
      "metadata": {
        "id": "EjGE1Icx3Wqf"
      },
      "source": [
        "#Making the data dense for deep learning\n",
        "X_test_A = X_test.todense()\n",
        "X_train_A = X_train.todense()"
      ],
      "execution_count": 15,
      "outputs": []
    },
    {
      "cell_type": "markdown",
      "metadata": {
        "id": "dHWGY4GP3uqa"
      },
      "source": [
        "Neural Network (Keras)"
      ]
    },
    {
      "cell_type": "code",
      "metadata": {
        "id": "4DoJ9ILS3zTo"
      },
      "source": [
        "from sklearn.metrics import confusion_matrix\n",
        "from sklearn.metrics import classification_report\n",
        "\n",
        "from keras.models import Sequential #Our model type\n",
        "from keras.layers import Dense #Type of layer\n",
        "\n",
        "#Combining Keras with Sklearn (enables us to do K-fold crossvalidation and things like that - not a necessary package)\n",
        "from keras.wrappers.scikit_learn import KerasClassifier \n",
        "\n",
        "from tensorflow.keras.utils import to_categorical\n",
        "from keras.callbacks import EarlyStopping\n",
        "\n",
        "from sklearn.model_selection import cross_val_score\n",
        "from sklearn.model_selection import KFold\n",
        "from sklearn.pipeline import Pipeline\n",
        "\n",
        "import matplotlib.pyplot as plt\n",
        "import seaborn as sns\n",
        "sns.set()"
      ],
      "execution_count": 16,
      "outputs": []
    },
    {
      "cell_type": "code",
      "metadata": {
        "id": "_q7nl7ei33gf"
      },
      "source": [
        "#When working with neural network, we will need a column for each target output. \n",
        "#We can create dummies by using the np_utils, which does the same as the one hot encoder from sklearn:\n",
        "\n",
        "dummy_y_train = to_categorical(y_train)\n",
        "dummy_y_test = to_categorical(y_test)"
      ],
      "execution_count": 17,
      "outputs": []
    },
    {
      "cell_type": "code",
      "metadata": {
        "id": "2ENnU8s34j0O"
      },
      "source": [
        "#Keras NN model cannot handle sparse matrix directly. \n",
        "#The data has to be dense array or matrix, \n",
        "#but transforming the whole training data to dense array won’t fit into my RAM. \n",
        "#So I had to define a function, which generates iterable generator object, \n",
        "#so that it can be fed to NN model.\n",
        "def batch_generator(X_data, y_data, batch_size):\n",
        "    samples_per_epoch = X_data.shape[0]\n",
        "    number_of_batches = samples_per_epoch/batch_size #steps_per_epoch\n",
        "    counter=0\n",
        "    index = np.arange(np.shape(y_data)[0])\n",
        "    while 1:\n",
        "        index_batch = index[batch_size*counter:batch_size*(counter+1)]\n",
        "        X_batch = X_data[index_batch,:].toarray()\n",
        "        y_batch = y_data[index_batch]\n",
        "        counter += 1\n",
        "        yield np.array (X_batch),y_batch\n",
        "        if (counter > number_of_batches):\n",
        "            counter=0"
      ],
      "execution_count": 18,
      "outputs": []
    },
    {
      "cell_type": "code",
      "metadata": {
        "id": "s2ngZ8c_ZLS8"
      },
      "source": [
        "n_cols = X_train.shape[1]\n",
        "early_stopping_monitor = EarlyStopping(patience=2, monitor='accuracy')"
      ],
      "execution_count": 19,
      "outputs": []
    },
    {
      "cell_type": "code",
      "metadata": {
        "id": "VHerLBXAgJS7"
      },
      "source": [
        "from keras.callbacks import ModelCheckpoint\n",
        "\n",
        "# define the checkpoint\n",
        "filepath=\"weights-improvement-{epoch:02d}-{loss:.4f}.hdf5\"\n",
        "checkpoint = ModelCheckpoint(filepath, monitor='loss', verbose=1, save_best_only=True, mode='min')\n",
        "callbacks_list = [checkpoint]"
      ],
      "execution_count": 20,
      "outputs": []
    },
    {
      "cell_type": "code",
      "metadata": {
        "colab": {
          "base_uri": "https://localhost:8080/"
        },
        "id": "dVdmHFUuZNjx",
        "outputId": "43bf292d-fa69-4241-c4d8-4abe9cfd5c30"
      },
      "source": [
        "%%time\n",
        "model = Sequential()\n",
        "\n",
        "model.add(Dense(100,activation='relu', input_shape = (n_cols,)))\n",
        "model.add(Dense(50,activation='relu'))\n",
        "model.add(Dense(2,activation='softmax')) \n",
        "model.compile(optimizer = 'adam', loss='categorical_crossentropy', metrics=['accuracy'])\n",
        "\n",
        "history = model.fit(batch_generator(X_train, dummy_y_train, 20),\n",
        "                    epochs = 20,\n",
        "                    verbose=1,\n",
        "                    steps_per_epoch = X_train.shape[1]/20, #Very important so it doesnt run forever\n",
        "                    callbacks = [early_stopping_monitor]\n",
        "                    )"
      ],
      "execution_count": 21,
      "outputs": [
        {
          "output_type": "stream",
          "text": [
            "Epoch 1/20\n",
            "459/458 [==============================] - 1s 2ms/step - loss: 0.3200 - accuracy: 0.8624\n",
            "Epoch 2/20\n",
            "459/458 [==============================] - 1s 2ms/step - loss: 0.1990 - accuracy: 0.9206\n",
            "Epoch 3/20\n",
            "459/458 [==============================] - 1s 2ms/step - loss: 0.1348 - accuracy: 0.9523\n",
            "Epoch 4/20\n",
            "459/458 [==============================] - 1s 2ms/step - loss: 0.0902 - accuracy: 0.9714\n",
            "Epoch 5/20\n",
            "459/458 [==============================] - 1s 2ms/step - loss: 0.0605 - accuracy: 0.9823\n",
            "Epoch 6/20\n",
            "459/458 [==============================] - 1s 2ms/step - loss: 0.0446 - accuracy: 0.9869\n",
            "Epoch 7/20\n",
            "459/458 [==============================] - 1s 2ms/step - loss: 0.0320 - accuracy: 0.9907\n",
            "Epoch 8/20\n",
            "459/458 [==============================] - 1s 3ms/step - loss: 0.0256 - accuracy: 0.9929\n",
            "Epoch 9/20\n",
            "459/458 [==============================] - 1s 3ms/step - loss: 0.0216 - accuracy: 0.9941\n",
            "Epoch 10/20\n",
            "459/458 [==============================] - 1s 3ms/step - loss: 0.0177 - accuracy: 0.9944\n",
            "Epoch 11/20\n",
            "459/458 [==============================] - 1s 3ms/step - loss: 0.0163 - accuracy: 0.9952\n",
            "Epoch 12/20\n",
            "459/458 [==============================] - 1s 2ms/step - loss: 0.0158 - accuracy: 0.9953\n",
            "Epoch 13/20\n",
            "459/458 [==============================] - 1s 2ms/step - loss: 0.0150 - accuracy: 0.9955\n",
            "Epoch 14/20\n",
            "459/458 [==============================] - 1s 2ms/step - loss: 0.0142 - accuracy: 0.9956\n",
            "Epoch 15/20\n",
            "459/458 [==============================] - 1s 2ms/step - loss: 0.0139 - accuracy: 0.9960\n",
            "Epoch 16/20\n",
            "459/458 [==============================] - 1s 2ms/step - loss: 0.0134 - accuracy: 0.9962\n",
            "Epoch 17/20\n",
            "459/458 [==============================] - 1s 2ms/step - loss: 0.0133 - accuracy: 0.9961\n",
            "Epoch 18/20\n",
            "459/458 [==============================] - 1s 2ms/step - loss: 0.0120 - accuracy: 0.9967\n",
            "Epoch 19/20\n",
            "459/458 [==============================] - 1s 2ms/step - loss: 0.0136 - accuracy: 0.9963\n",
            "Epoch 20/20\n",
            "459/458 [==============================] - 1s 2ms/step - loss: 0.0135 - accuracy: 0.9964\n",
            "CPU times: user 39.2 s, sys: 6.77 s, total: 46 s\n",
            "Wall time: 26.4 s\n"
          ],
          "name": "stdout"
        }
      ]
    },
    {
      "cell_type": "code",
      "metadata": {
        "colab": {
          "base_uri": "https://localhost:8080/"
        },
        "id": "xHuGLJHCgQYp",
        "outputId": "031c4f9a-5f35-47e0-abe8-161f39bb4fe6"
      },
      "source": [
        "model.summary()"
      ],
      "execution_count": 22,
      "outputs": [
        {
          "output_type": "stream",
          "text": [
            "Model: \"sequential\"\n",
            "_________________________________________________________________\n",
            "Layer (type)                 Output Shape              Param #   \n",
            "=================================================================\n",
            "dense (Dense)                (None, 100)               917400    \n",
            "_________________________________________________________________\n",
            "dense_1 (Dense)              (None, 50)                5050      \n",
            "_________________________________________________________________\n",
            "dense_2 (Dense)              (None, 2)                 102       \n",
            "=================================================================\n",
            "Total params: 922,552\n",
            "Trainable params: 922,552\n",
            "Non-trainable params: 0\n",
            "_________________________________________________________________\n"
          ],
          "name": "stdout"
        }
      ]
    },
    {
      "cell_type": "code",
      "metadata": {
        "colab": {
          "base_uri": "https://localhost:8080/",
          "height": 301
        },
        "id": "t_osRw9944y2",
        "outputId": "cde01ba3-2c7e-46ce-8041-94bd7a07800b"
      },
      "source": [
        "#Summarize history for accuracy (Binomial model)\n",
        "plt.plot(history.history['accuracy'])\n",
        "plt.title('model accuracy')\n",
        "plt.ylabel('accuracy')\n",
        "plt.xlabel('epoch')\n",
        "plt.show()"
      ],
      "execution_count": 23,
      "outputs": [
        {
          "output_type": "display_data",
          "data": {
            "image/png": "[encoded data removed]",
            "text/plain": [
              "<Figure size 432x288 with 1 Axes>"
            ]
          },
          "metadata": {
            "tags": []
          }
        }
      ]
    },
    {
      "cell_type": "code",
      "metadata": {
        "id": "TZxg8ziDEVHn"
      },
      "source": [
        "## encode y\n",
        "dic_y_mapping = {n:label for n,label in \n",
        "                 enumerate(np.unique(y_test))}\n",
        "inverse_dic = {v:k for k,v in dic_y_mapping.items()}\n",
        "y_test = np.array([inverse_dic[y] for y in y_test])"
      ],
      "execution_count": 24,
      "outputs": []
    },
    {
      "cell_type": "code",
      "metadata": {
        "id": "WD8swVMsgkLE"
      },
      "source": [
        "## test\n",
        "predicted_prob = model.predict(X_test_A)\n",
        "predicted = [dic_y_mapping[np.argmax(pred)] for pred in \n",
        "             predicted_prob]"
      ],
      "execution_count": 25,
      "outputs": []
    },
    {
      "cell_type": "code",
      "metadata": {
        "colab": {
          "base_uri": "https://localhost:8080/",
          "height": 284
        },
        "id": "0Yi1Vlaegp1_",
        "outputId": "9c4749a1-5467-471b-8676-7be81c6fd20f"
      },
      "source": [
        "#Confusion matrix\n",
        "from sklearn.metrics import confusion_matrix\n",
        "import seaborn as sns\n",
        "sns.set()\n",
        "\n",
        "cf_matrix_bi = confusion_matrix(y_test, predicted)\n",
        "\n",
        "#Lets look at it graphically:\n",
        "group_names = [\"TN\", \"FP\", \"FN\", \"TP\"]\n",
        "group_counts = [\"{0:0.0f}\".format(value) for value in cf_matrix_bi.flatten()]\n",
        "group_percentages = [\"{0:.2%}\".format(value) for value in cf_matrix_bi.flatten() / np.sum(cf_matrix_bi)]\n",
        "labels = [f\"{v1}\\n{v2}\\n{v3}\" for v1, v2, v3 in zip(group_names, group_counts, group_percentages)]\n",
        "labels = np.asarray(labels).reshape(2, 2)\n",
        "fig, ax = plt.subplots()\n",
        "sns.heatmap(cf_matrix_bi, annot=labels, fmt=\"\", cmap=\"Blues\")\n",
        "labels = ['Negative', 'Positive']\n",
        "ax.set_xticklabels(labels)\n",
        "ax.set_yticklabels(labels)\n",
        "ax.set_ylabel('True labels')\n",
        "ax.set_xlabel('Predicted data')\n",
        "plt.show()"
      ],
      "execution_count": 26,
      "outputs": [
        {
          "output_type": "display_data",
          "data": {
            "image/png": "[encoded data removed]",
            "text/plain": [
              "<Figure size 432x288 with 2 Axes>"
            ]
          },
          "metadata": {
            "tags": []
          }
        }
      ]
    },
    {
      "cell_type": "code",
      "metadata": {
        "colab": {
          "base_uri": "https://localhost:8080/"
        },
        "id": "HFweMQthgsNY",
        "outputId": "261c78b1-c2e3-4b6e-9786-188d76b26ec5"
      },
      "source": [
        "from sklearn.metrics import classification_report\n",
        "\n",
        "y_pred = model.predict(X_test_A, batch_size=64, verbose=1)\n",
        "y_pred_bool = np.argmax(y_pred, axis=1)\n",
        "\n",
        "print(classification_report(y_test, y_pred_bool))"
      ],
      "execution_count": 27,
      "outputs": [
        {
          "output_type": "stream",
          "text": [
            "88/88 [==============================] - 0s 2ms/step\n",
            "              precision    recall  f1-score   support\n",
            "\n",
            "           0       0.87      0.83      0.85      1213\n",
            "           1       0.95      0.96      0.96      4416\n",
            "\n",
            "    accuracy                           0.94      5629\n",
            "   macro avg       0.91      0.90      0.90      5629\n",
            "weighted avg       0.93      0.94      0.94      5629\n",
            "\n"
          ],
          "name": "stdout"
        }
      ]
    },
    {
      "cell_type": "code",
      "metadata": {
        "colab": {
          "base_uri": "https://localhost:8080/",
          "height": 394
        },
        "id": "sRbirZbZguLN",
        "outputId": "9c21e9c1-0d8b-45dd-fa51-9b062455a49d"
      },
      "source": [
        "from sklearn.metrics import roc_curve, auc\n",
        "\n",
        "#Roc_curve\n",
        "fpr, tpr, thresholds = roc_curve(y_test, y_pred[:,1])\n",
        "\n",
        "#AUC\n",
        "roc_auc = auc(fpr, tpr)\n",
        "\n",
        "#Plot\n",
        "plt.figure(figsize=[7, 6])\n",
        "plt.plot(fpr, tpr, label=\"ANN Neural Network (AUC={:0.2f})\".format(roc_auc), linewidth=2)\n",
        "\n",
        "plt.plot([0, 1], [0, 1], color=\"green\", linestyle=\"--\", label=\"Random (AUC=0.50)\")\n",
        "plt.xlabel(\"FPR\", fontsize=13)\n",
        "plt.ylabel(\"TPR\", fontsize=13)\n",
        "plt.legend(loc=\"lower right\", fontsize=13)\n",
        "plt.show()"
      ],
      "execution_count": 28,
      "outputs": [
        {
          "output_type": "display_data",
          "data": {
            "image/png": "[encoded data removed]",
            "text/plain": [
              "<Figure size 504x432 with 1 Axes>"
            ]
          },
          "metadata": {
            "tags": []
          }
        }
      ]
    }
  ]
}